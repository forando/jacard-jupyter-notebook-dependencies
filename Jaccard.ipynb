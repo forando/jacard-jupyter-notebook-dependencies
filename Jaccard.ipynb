{
 "cells": [
  {
   "cell_type": "markdown",
   "metadata": {},
   "source": [
    "seo text similarity metrics\n",
    "as discussed in\n",
    "https://towardsdatascience.com/overview-of-text-similarity-metrics-3397c4601f50"
   ]
  },
  {
   "cell_type": "code",
   "execution_count": 1,
   "metadata": {},
   "outputs": [],
   "source": [
    "import numpy as np\n",
    "import pandas as pd\n",
    "import re\n",
    "import matplotlib.pyplot as plt\n",
    "from collections import OrderedDict\n",
    "from sklearn.feature_extraction.text import CountVectorizer\n",
    "from sklearn.metrics.pairwise import cosine_similarity"
   ]
  },
  {
   "cell_type": "markdown",
   "metadata": {},
   "source": [
    "read files and store text in dict\n",
    "the script assumes an autotext and human text csv files are locates in ./data folder"
   ]
  },
  {
   "cell_type": "code",
   "execution_count": 2,
   "metadata": {},
   "outputs": [
    {
     "name": "stdout",
     "output_type": "stream",
     "text": [
      "./data/backpacks_uk_autotext.csv\n",
      "./data/backpacks_uk_human_written_texts.csv\n"
     ]
    }
   ],
   "source": [
    "files = ! ls ./data/*.csv\n",
    "files\n",
    "text_dict = {}\n",
    "for file in files:\n",
    "    print(file)\n",
    "    dict_key = file.split('/')[-1].replace(' ','_').lower().split('.')[0]\n",
    "    text_dict[dict_key] = pd.read_csv(file, header=None).iloc[:,-1]\n",
    "text_dict = OrderedDict(sorted(text_dict.items()))"
   ]
  },
  {
   "cell_type": "markdown",
   "metadata": {},
   "source": [
    "importer for *messy* filenames and inconsistent colnames, however, TeXt must be the last column"
   ]
  },
  {
   "cell_type": "markdown",
   "metadata": {},
   "source": [
    "https://docs.python.org/2/library/collections.html#ordereddict-examples-and-recipes"
   ]
  },
  {
   "cell_type": "markdown",
   "metadata": {},
   "source": [
    "jaccard"
   ]
  },
  {
   "cell_type": "code",
   "execution_count": 3,
   "metadata": {},
   "outputs": [],
   "source": [
    "def get_jaccard_sim(str1, str2):\n",
    "    '''with prior stripping of text characters like comma ,dot etc.'''\n",
    "    chars = ['\\\\´', '\\\\’' ,'\\'', '\\\\.', '\\\\,', '\\\\!', '\\\\?', '\\\\:', '\\\\;']\n",
    "    \n",
    "    a = set(re.sub(\"|\".join(chars), '', str1).split(' ')) \n",
    "    b = set(re.sub(\"|\".join(chars), '', str2).split(' '))\n",
    "    \n",
    "    c = a & b\n",
    "    #c = a.intersection(b)\n",
    "    #display(a-c, b-c, c)\n",
    "    \n",
    "    return float(len(c)) / (len(a) + len(b) - len(c))\n",
    "\n",
    "def jaccard_process(series, mode=''):\n",
    "    '''takes a series or list object as input and returns a list of jaccard similarities of within that list, excluding the diagonal elements, i.e. series[1] with series[1]'''\n",
    "    indices = range(len(series))\n",
    "    matrix = pd.DataFrame(index=indices, columns=indices)\n",
    "    matrix = np.zeros([len(series),len(series)])\n",
    "\n",
    "    for i in indices:\n",
    "        for j in indices[i:]: # for only calculating half the matrix: `for j in indices[i:]`\n",
    "            matrix[i,j] = get_jaccard_sim(series[i], series[j])\n",
    "            \n",
    "    matrix = matrix.astype('float') # neccessary\n",
    "    if mode == 'det':\n",
    "        print('raw matrix, np.triu mask, masked half triangle without diagonals')\n",
    "        return matrix, np.triu_indices(len(series), k=1), matrix[np.triu_indices(len(series), k=1)]\n",
    "    elif mode == 'mat':\n",
    "        return pd.DataFrame(matrix).round(3).style.background_gradient('Greens')\n",
    "    else:\n",
    "        return matrix[np.triu_indices(len(series), k=1)]"
   ]
  },
  {
   "cell_type": "markdown",
   "metadata": {},
   "source": [
    "automated together"
   ]
  },
  {
   "cell_type": "code",
   "execution_count": 4,
   "metadata": {},
   "outputs": [
    {
     "name": "stdout",
     "output_type": "stream",
     "text": [
      "backpacks_uk_autotext 892\n",
      "backpacks_uk_human_written_texts 143\n"
     ]
    }
   ],
   "source": [
    "for ky in text_dict.keys():\n",
    "    print(ky, len(text_dict[ky]))"
   ]
  },
  {
   "cell_type": "code",
   "execution_count": 5,
   "metadata": {},
   "outputs": [
    {
     "data": {
      "text/plain": [
       "array([['backpacks_uk_autotext', 'backpacks_uk_human_written_texts']],\n",
       "      dtype='<U32')"
      ]
     },
     "execution_count": 5,
     "metadata": {},
     "output_type": "execute_result"
    }
   ],
   "source": [
    "iter_list = np.reshape(list(text_dict.keys()), [int(len(text_dict)/2),2])\n",
    "iter_list"
   ]
  },
  {
   "cell_type": "markdown",
   "metadata": {},
   "source": [
    "looping through file list\n",
    "individual combinations"
   ]
  },
  {
   "cell_type": "code",
   "execution_count": 6,
   "metadata": {},
   "outputs": [
    {
     "name": "stdout",
     "output_type": "stream",
     "text": [
      "['backpacks_uk_autotext' 'backpacks_uk_human_written_texts']\n"
     ]
    }
   ],
   "source": [
    "for i in iter_list:\n",
    "    print(i)"
   ]
  },
  {
   "cell_type": "markdown",
   "metadata": {},
   "source": [
    "without sampling and density set"
   ]
  },
  {
   "cell_type": "code",
   "execution_count": null,
   "metadata": {},
   "outputs": [],
   "source": [
    "seed = 4243\n",
    "size = 'full'\n",
    "fields = ['count','mean','50%','std']\n",
    "\n",
    "for i in iter_list:\n",
    "    \n",
    "    file_list = i\n",
    "    min_length = min([len(text_dict[key]) for key in i])\n",
    "\n",
    "    print(f'jaccard similarity, full set')\n",
    "    for key in file_list:\n",
    "        sent = text_dict[key].astype('str').values\n",
    "        #sent = text_dict[key].sample(size, random_state=seed).astype('str').values\n",
    "        jaccard = pd.Series(jaccard_process(sent))\n",
    "        print(key,'\\n', jaccard.describe()[fields])\n",
    "        jaccard.hist(bins=np.linspace(0,1,101), figsize=[15,10], alpha=0.5, density=True)\n",
    "        plt.legend(file_list)\n",
    "    plt.show()"
   ]
  }
 ],
 "metadata": {
  "kernelspec": {
   "display_name": "Python 3",
   "language": "python",
   "name": "python3"
  },
  "language_info": {
   "codemirror_mode": {
    "name": "ipython",
    "version": 3
   },
   "file_extension": ".py",
   "mimetype": "text/x-python",
   "name": "python",
   "nbconvert_exporter": "python",
   "pygments_lexer": "ipython3",
   "version": "3.6.3"
  }
 },
 "nbformat": 4,
 "nbformat_minor": 4
}
